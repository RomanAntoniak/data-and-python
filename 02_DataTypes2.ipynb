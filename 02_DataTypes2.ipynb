{
  "nbformat": 4,
  "nbformat_minor": 0,
  "metadata": {
    "colab": {
      "provenance": [],
      "include_colab_link": true
    },
    "kernelspec": {
      "name": "python3",
      "display_name": "Python 3"
    }
  },
  "cells": [
    {
      "cell_type": "markdown",
      "metadata": {
        "id": "view-in-github",
        "colab_type": "text"
      },
      "source": [
        "<a href=\"https://colab.research.google.com/github/RomanAntoniak/data-and-python/blob/main/02_DataTypes2.ipynb\" target=\"_parent\"><img src=\"https://colab.research.google.com/assets/colab-badge.svg\" alt=\"Open In Colab\"/></a>"
      ]
    },
    {
      "cell_type": "markdown",
      "metadata": {
        "id": "3O7iro_BV0mL"
      },
      "source": [
        "# Data Types and Operators\n",
        "\n",
        "---"
      ]
    },
    {
      "cell_type": "markdown",
      "metadata": {
        "id": "ZQgTpaaKLIsF"
      },
      "source": [
        "# Changing Data Input Type\n",
        "**Recap**: to get input from the user and store it in a variable, use the instruction  \n",
        "\n",
        "*variableName = input(\"message asking user for required information\")*\n",
        "\n",
        "**Remember**: Unless you state otherwise, all input is String data  \n",
        "\n",
        "Integers are whole numbers and can be both positive or negative.  \n",
        "Floats are decimal numbers which have a 'floating' decimal point.  \n",
        "To change the input data type, we can specify the type of data we would like from the user  \n",
        "\n",
        "*variableNameInteger = int(input(\"Please input a whole number \"))*  \n",
        "\n",
        "*variableNameFloat = float(input(\"Please input a decimal number \")) *\n",
        "\n",
        "By using either *int()* or *float()* it tells Python what kind of data will be stored in the variable  \n"
      ]
    },
    {
      "cell_type": "code",
      "metadata": {
        "id": "5usXzQ4OLDx3"
      },
      "source": [],
      "execution_count": null,
      "outputs": []
    },
    {
      "cell_type": "markdown",
      "metadata": {
        "id": "y9KJWVXhLcAB"
      },
      "source": [
        "---\n",
        "### Exercise 1 - changing data type\n",
        "Write a function called **show_details()** which will:  \n",
        "\n",
        "*  ask the user their name, age and height in metres  \n",
        "*  print the message Hello `name` you are `age` years old and `height` metres tall  \n",
        "\n",
        "*Remember to specify the correct data type for each input*   \n",
        "\n",
        "Test Input:  \n",
        "Jean  \n",
        "52  \n",
        "2.3  \n",
        "\n",
        "Expected Output:  \n",
        "Hello Jean you are 52 years old and 2.3 metres tall\n"
      ]
    },
    {
      "cell_type": "code",
      "metadata": {
        "id": "zA85A39JLzfF",
        "outputId": "177eed05-d8e4-4030-f263-4eb8a26efdf6",
        "colab": {
          "base_uri": "https://localhost:8080/"
        }
      },
      "source": [
        "def show_details():\n",
        "\n",
        "  name = str(input(\"Type your name \"))\n",
        "  age = int(input(\"Type your age \"))\n",
        "  height = float(input(\"Type your height \"))\n",
        "  print(\"Hello\", name, \"you are\", age, \"years old and\",height, \"metres tall\")\n",
        "\n",
        "show_details()"
      ],
      "execution_count": null,
      "outputs": [
        {
          "output_type": "stream",
          "name": "stdout",
          "text": [
            "Type your name Roman\n",
            "Type your age 25\n",
            "Type your height 1.80\n",
            "Hello Roman you are 25 years old and 1.8 metres tall\n"
          ]
        }
      ]
    },
    {
      "cell_type": "markdown",
      "metadata": {
        "id": "_tBD2cGDW1GB"
      },
      "source": [
        "---\n",
        "### Exercise 2 - boolean variables\n",
        "\n",
        "A **boolean variable** can hold just two values, True or False.  This type of variable is hugely valuable in holding onto the state of things.  For example, a boolean variable called loggedIn might hold True if the user is loggedIn and False otherwise.  This means that at any point while a program is running, it is possible to ask the question \"Is the user logged in?\".  The answer will depend on the value of the variable loggedIn.  \n",
        "\n",
        "Although we will use the values True and False as words, Python stores them as 1 for true and 0 for false.   \n",
        "\n",
        "To demonstrate this, write a function called **show_trueFalse()** which will:  \n",
        "\n",
        "*  create a variable called **logged_in** and assign it the value True (use the assignment operator **=** the same as usual)  \n",
        "*  create a variable called **logged_in_as_num** and assign it the value int(True)  \n",
        "*  print `logged_in` and `logged_in_as_num`\n",
        "\n",
        "Expected output:  \n",
        "True 1\n",
        "\n",
        "When you have run this, change True to False in both places.\n",
        "\n",
        "Expected output:  \n",
        "False 0\n"
      ]
    },
    {
      "cell_type": "code",
      "metadata": {
        "id": "XNHcNQEKW8xj",
        "outputId": "0402ea99-1fd8-4ab4-c60b-b2763aed147e",
        "colab": {
          "base_uri": "https://localhost:8080/"
        }
      },
      "source": [
        "def show_trueFalse():\n",
        "\n",
        "  logged_in = True\n",
        "  logged_in_as_num = int(logged_in)\n",
        "  print(logged_in, logged_in_as_num)\n",
        "\n",
        "\n",
        "show_trueFalse()"
      ],
      "execution_count": null,
      "outputs": [
        {
          "output_type": "stream",
          "name": "stdout",
          "text": [
            "True 1\n"
          ]
        }
      ]
    },
    {
      "cell_type": "markdown",
      "metadata": {
        "id": "r8O47uBPW9Gy"
      },
      "source": [
        "---\n",
        "### Exercise 3 - converting float to int\n",
        "\n",
        "Write a function called **count_poundCoins()** which will:  \n",
        "\n",
        "*  ask the user to enter an amount in pounds and pence and assign this value to a float variable called **pounds_pence**  \n",
        "*  convert the float variable to int and assign this value to a variable called **pound_coins**  \n",
        "*  print the message Number of pound coins `pound_coins`  \n",
        "\n",
        "Test input:  \n",
        "3.48  \n",
        "\n",
        "Expected output:  \n",
        "Number of pound coins 3\n",
        "\n"
      ]
    },
    {
      "cell_type": "code",
      "metadata": {
        "id": "aTO1l1iNXUNt",
        "outputId": "8b48fa43-41e2-478a-cfad-d000ed91374d",
        "colab": {
          "base_uri": "https://localhost:8080/"
        }
      },
      "source": [
        "def count_poundCoins():\n",
        "\n",
        "  pounds_pence = float(input(\"enter an amount in pounds and pence \"))\n",
        "  pounds_coins = int(pounds_pence)\n",
        "  print(\"Number of pound coins:\", pounds_coins)\n",
        "\n",
        "count_poundCoins()\n",
        "\n"
      ],
      "execution_count": null,
      "outputs": [
        {
          "output_type": "stream",
          "name": "stdout",
          "text": [
            "enter an amount in pounds and pence 3.48\n",
            "Number of pound coins: 3\n"
          ]
        }
      ]
    },
    {
      "cell_type": "markdown",
      "metadata": {
        "id": "Wy_L3E_-XUWa"
      },
      "source": [
        "---\n",
        "### Exercise 4 - converting int to string\n",
        "\n",
        "Write a function called **format_currency()** which will:\n",
        "\n",
        "*  ask the user to enter a number of pounds and assign this to an integer variable called **num_pounds**  \n",
        "*  convert `num_pounds` to a string and assign it to a variable called **pounds**  \n",
        "*  create a String variable called **currency** which has a \"£\", `pounds`, \".00\" joined together\n",
        "*  print the resulting currency, including the £ sign  \n",
        "\n",
        "Test input:  \n",
        "4\n",
        "\n",
        "Expected output:  \n",
        "£4.00\n"
      ]
    },
    {
      "cell_type": "code",
      "metadata": {
        "id": "2hHoJyjMXXUK",
        "outputId": "c96d2f75-934b-44a8-874e-062c410b2b16",
        "colab": {
          "base_uri": "https://localhost:8080/"
        }
      },
      "source": [
        "def format_currency():\n",
        "   num_pounds = int(input(\"enter a number of pounds \"))\n",
        "   pounds = str(num_pounds)\n",
        "   currency = \"$\"+ pounds +\".00\"\n",
        "   print(currency)\n",
        "\n",
        "\n",
        "\n",
        "\n",
        "format_currency()\n"
      ],
      "execution_count": null,
      "outputs": [
        {
          "output_type": "stream",
          "name": "stdout",
          "text": [
            "enter a number of pounds 4\n",
            "$4.00\n"
          ]
        }
      ]
    },
    {
      "cell_type": "markdown",
      "metadata": {
        "id": "nBZqJ5d7XXdc"
      },
      "source": [
        "---\n",
        "### Exercise 5 - area of a circle\n",
        "\n",
        "Write a function called **calculate_area()** which will:\n",
        "\n",
        "*  ask the user to enter the **radius** of a circle (which could be a float or an int)  \n",
        "*  create a variable called **pi** and assign it the value 3.14159\n",
        "*  calculate the **area** of the circle (`area = pi * radius * radius`)  \n",
        "*  print the area of the circle to 2 decimal places (`print(round(area, 2))` ).  \n",
        "\n",
        "Test input:  \n",
        "5\n",
        "\n",
        "Expected output:  \n",
        "78.54"
      ]
    },
    {
      "cell_type": "code",
      "metadata": {
        "id": "GbkuKY-_dwn0",
        "outputId": "fa551dae-8740-49ec-a847-bc256e36c1e2",
        "colab": {
          "base_uri": "https://localhost:8080/"
        }
      },
      "source": [
        "def calculate_area():\n",
        "  radius = float(input(\"enter the radius of a circle \"))\n",
        "  pi = 3.14159\n",
        "  area = area= pi * radius * radius\n",
        "  print(print(round(area, 2)))\n",
        "\n",
        "\n",
        "\n",
        "\n",
        "\n",
        "calculate_area()\n"
      ],
      "execution_count": null,
      "outputs": [
        {
          "output_type": "stream",
          "name": "stdout",
          "text": [
            "enter the radius of a circle 3\n",
            "28.27\n",
            "None\n"
          ]
        }
      ]
    }
  ]
}