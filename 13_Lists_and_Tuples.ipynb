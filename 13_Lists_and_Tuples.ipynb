{
  "nbformat": 4,
  "nbformat_minor": 0,
  "metadata": {
    "colab": {
      "name": "Lists and Tuples.ipynb",
      "provenance": [],
      "include_colab_link": true
    },
    "kernelspec": {
      "name": "python3",
      "display_name": "Python 3"
    },
    "language_info": {
      "name": "python"
    }
  },
  "cells": [
    {
      "cell_type": "markdown",
      "metadata": {
        "id": "view-in-github",
        "colab_type": "text"
      },
      "source": [
        "<a href=\"https://colab.research.google.com/github/RomanAntoniak/data-and-python/blob/main/13_Lists_and_Tuples.ipynb\" target=\"_parent\"><img src=\"https://colab.research.google.com/assets/colab-badge.svg\" alt=\"Open In Colab\"/></a>"
      ]
    },
    {
      "cell_type": "markdown",
      "metadata": {
        "id": "Z-M-RCWATK71"
      },
      "source": [
        "# Lists and tuples\n",
        "\n",
        "Often we need to store a number of single items of data together so that they can be processed together. This might be because all the data refers to one person (e.g. name, age, gender, etc) OR it might be because we have a set of data (e.g. all the items that should be displayed in a drop down list, such as all the years from this year back to 100 years ago so that someone can select their year of birth)\n",
        "\n",
        "Python has a range of data structures available including:\n",
        "*   lists  \n",
        "*   tuples  \n",
        "*   dictionaries  \n",
        "*   sets\n",
        "\n",
        "This worksheet looks at lists and tuples.\n",
        "\n",
        "## List\n",
        "A list is a set of related, individual data objects, that are indexed and can be processed as a whole, as subsets or as individual items.  Lists are stored, essentially, as contiguous items in memory so that access can be as quick as possible.  However, they are mutable (they can be changed after they are created and stored) and so those mechanisms need to include extra functionality to deal with changing list sizes.\n",
        "\n",
        "## Tuple\n",
        "Essentially the same as a list but it is immutable.  Once it has been created it can't be changed.  It is stored in memory as contiguous items, with the size required being fixed right from the start.  This makes it faster to access.\n",
        "\n",
        "The code below will create two lists and a tuple.\n",
        "*   the first list contains 1000 random numbers between 1 and 100\n",
        "*   the second list is of random length (up to 5000) and each item is one of the 9 characteristics that are protected under the Equality Act in the UK.\n",
        "*   the tuple contains the 9 protected characteristics\n",
        "\n",
        "Before you start the exercises, run the code below.  It will generate the lists and tuple so that you can use them in the exercises.  If you need to recreate the lists again (because you have changed them and need to work on the originals, just run this cell again).\n",
        "\n",
        "***Note:***  *a list variable contains a reference to the start of the list in memory, rather than storing the list itself.  This means that if you assign the list to another variable (to make a copy), it will only copy across the reference.  If you change the copy, you change the original list.*\n",
        "\n",
        "*If you need to make a copy of the list you will need to use a loop to create a new list and copy all items across.*"
      ]
    },
    {
      "cell_type": "code",
      "metadata": {
        "id": "BDRckXeQXFMT"
      },
      "source": [
        "from random import randint, choice\n",
        "\n",
        "def get_num_list():\n",
        "  num_list = [randint(1,100) for n in range(1000)]\n",
        "  return num_list\n",
        "\n",
        "def get_protected_characteristics():\n",
        "  characteristics_tuple = ('age','disability','gender reassignment','marriage and civil partnership','pregnancy and maternity','race','religion or belief','sex','sexual orientation')\n",
        "  return characteristics_tuple\n",
        "\n",
        "def get_protected_characteristic_list(protected_characteristics):\n",
        "  char_list = [choice(protected_characteristics) for ch in range(randint(1,5000))]\n",
        "  return char_list\n",
        "\n",
        "nums = get_num_list()\n",
        "protected_characteristics = get_protected_characteristics()\n",
        "characteristics = get_protected_characteristic_list(protected_characteristics)"
      ],
      "execution_count": 28,
      "outputs": []
    },
    {
      "cell_type": "markdown",
      "metadata": {
        "id": "xXT38-4ZV45n"
      },
      "source": [
        "## The exercises below will use the lists:  \n",
        "*   **nums** (a list of between 1 and 1000 random numbers, each number is between 0 and 1000)\n",
        "*   **characteristics** (a list of 5000 random protected_characteristics)\n",
        "\n",
        "and the tuple:\n",
        "*  **protected_characteristics** (a set of the 9 protected characteristics identified in the Equality Act)\n",
        "\n",
        "## You can run the cell above any number of times to generate new lists."
      ]
    },
    {
      "cell_type": "markdown",
      "metadata": {
        "id": "Ft0dXl7fUuaK"
      },
      "source": [
        "---\n",
        "### Exercise 1 - list head, tail and shape\n",
        "\n",
        "Write a function, **describe_list()** which will:\n",
        "*  print the length of the list `nums`\n",
        "*  print the first 10 items in `nums`  \n",
        "*  print the last 5 items in `nums`"
      ]
    },
    {
      "cell_type": "code",
      "metadata": {
        "id": "jUcZD7mmTJdA",
        "outputId": "98384a02-f0c7-4dfe-f156-73b80e4df362",
        "colab": {
          "base_uri": "https://localhost:8080/"
        }
      },
      "source": [
        "def describe_list(nums_list):\n",
        "\n",
        "  print(len(nums_list))\n",
        "  print(nums_list[:10])\n",
        "  print(nums_list[-5:])\n",
        "  print(nums_list)\n",
        "\n",
        "\n",
        "describe_list(nums)\n",
        "\n",
        "\n",
        "\n"
      ],
      "execution_count": null,
      "outputs": [
        {
          "output_type": "stream",
          "name": "stdout",
          "text": [
            "1000\n",
            "[78, 76, 79, 63, 6, 10, 57, 70, 68, 8]\n",
            "[40, 21, 91, 23, 53]\n",
            "[78, 76, 79, 63, 6, 10, 57, 70, 68, 8, 16, 39, 77, 90, 30, 23, 78, 41, 47, 9, 35, 28, 34, 45, 65, 41, 89, 30, 45, 10, 14, 38, 77, 58, 59, 66, 81, 44, 19, 81, 86, 98, 67, 7, 30, 95, 2, 61, 73, 43, 36, 68, 29, 13, 73, 6, 35, 26, 83, 99, 39, 19, 99, 100, 99, 51, 12, 24, 46, 9, 48, 88, 52, 42, 66, 36, 98, 84, 86, 91, 74, 37, 5, 5, 30, 65, 43, 19, 79, 97, 59, 39, 59, 57, 31, 91, 20, 9, 64, 61, 32, 100, 84, 89, 99, 54, 55, 71, 73, 50, 47, 42, 97, 49, 18, 33, 5, 59, 8, 1, 69, 82, 39, 84, 66, 42, 98, 64, 15, 30, 85, 61, 1, 71, 9, 87, 65, 25, 92, 22, 78, 19, 12, 1, 14, 56, 24, 7, 100, 43, 40, 41, 22, 11, 90, 52, 51, 1, 55, 32, 84, 22, 21, 29, 22, 14, 29, 94, 15, 7, 35, 97, 12, 82, 49, 47, 85, 30, 75, 48, 8, 87, 81, 76, 60, 96, 42, 89, 77, 64, 53, 76, 79, 98, 17, 18, 9, 95, 33, 67, 85, 31, 2, 58, 82, 67, 69, 51, 23, 71, 75, 14, 50, 71, 100, 82, 25, 30, 40, 67, 37, 73, 37, 40, 75, 49, 47, 57, 100, 24, 76, 54, 95, 69, 45, 83, 86, 84, 19, 50, 60, 63, 79, 15, 6, 48, 57, 93, 25, 79, 20, 62, 29, 44, 95, 66, 98, 91, 57, 44, 66, 63, 33, 41, 40, 72, 83, 75, 96, 27, 42, 94, 37, 39, 45, 85, 57, 96, 16, 16, 1, 11, 99, 3, 67, 81, 62, 70, 6, 19, 100, 89, 66, 88, 95, 89, 37, 16, 34, 93, 60, 46, 37, 30, 73, 91, 70, 8, 89, 20, 30, 41, 60, 92, 5, 24, 14, 18, 91, 32, 39, 84, 6, 23, 84, 90, 56, 18, 21, 58, 18, 99, 20, 9, 36, 55, 84, 99, 88, 53, 95, 77, 79, 35, 45, 34, 21, 30, 26, 23, 52, 62, 92, 65, 21, 18, 95, 65, 57, 9, 54, 67, 46, 23, 100, 53, 77, 93, 23, 93, 95, 61, 1, 11, 13, 55, 3, 36, 77, 70, 29, 57, 29, 74, 65, 85, 9, 16, 5, 91, 100, 37, 50, 61, 11, 99, 99, 17, 12, 89, 86, 39, 49, 76, 67, 75, 96, 94, 30, 77, 77, 2, 41, 87, 16, 47, 69, 11, 39, 75, 3, 8, 7, 90, 32, 100, 65, 79, 71, 81, 80, 56, 28, 4, 70, 43, 70, 53, 87, 13, 48, 63, 74, 44, 42, 22, 70, 64, 86, 92, 53, 38, 70, 48, 81, 16, 100, 24, 15, 38, 86, 70, 61, 57, 70, 91, 2, 11, 85, 21, 67, 16, 81, 17, 49, 32, 6, 66, 66, 68, 22, 87, 1, 11, 74, 54, 56, 79, 33, 57, 70, 5, 9, 55, 4, 64, 24, 84, 95, 64, 15, 77, 83, 25, 95, 18, 77, 45, 42, 17, 34, 55, 99, 85, 9, 27, 99, 2, 14, 57, 49, 81, 51, 62, 98, 28, 79, 71, 60, 34, 28, 85, 54, 33, 60, 65, 72, 74, 77, 100, 23, 51, 19, 72, 32, 20, 56, 76, 8, 16, 73, 62, 12, 95, 63, 58, 66, 80, 2, 76, 48, 10, 89, 31, 3, 76, 77, 25, 2, 20, 87, 31, 90, 59, 4, 96, 44, 94, 26, 13, 71, 77, 1, 49, 28, 16, 69, 81, 50, 84, 51, 20, 26, 15, 1, 97, 100, 68, 87, 20, 57, 4, 5, 46, 71, 77, 35, 86, 4, 26, 15, 7, 22, 30, 90, 63, 82, 28, 30, 43, 57, 78, 6, 18, 83, 22, 19, 14, 49, 85, 45, 24, 86, 20, 50, 97, 44, 56, 22, 61, 67, 31, 74, 24, 57, 98, 9, 6, 94, 82, 30, 61, 55, 38, 98, 69, 51, 77, 70, 50, 29, 1, 25, 39, 59, 5, 18, 88, 14, 69, 80, 86, 9, 49, 85, 22, 2, 36, 89, 65, 99, 35, 28, 92, 76, 2, 83, 94, 94, 55, 2, 71, 77, 79, 44, 64, 82, 26, 73, 27, 43, 50, 96, 25, 6, 93, 90, 65, 54, 85, 89, 31, 79, 99, 8, 83, 1, 7, 73, 46, 54, 58, 17, 39, 97, 48, 69, 71, 79, 71, 49, 68, 16, 84, 23, 59, 69, 23, 56, 11, 32, 35, 79, 76, 76, 35, 89, 100, 24, 39, 44, 66, 24, 66, 92, 4, 65, 17, 76, 83, 73, 54, 92, 94, 47, 27, 18, 60, 4, 48, 60, 75, 77, 12, 36, 71, 97, 98, 45, 37, 37, 59, 50, 53, 38, 27, 56, 96, 72, 35, 55, 12, 35, 98, 90, 98, 8, 80, 74, 61, 39, 2, 45, 71, 20, 15, 21, 15, 23, 11, 50, 48, 71, 24, 9, 61, 44, 74, 91, 79, 98, 83, 58, 75, 72, 10, 87, 59, 27, 20, 70, 90, 36, 52, 31, 12, 19, 77, 65, 43, 86, 17, 20, 95, 29, 32, 88, 12, 70, 89, 17, 51, 59, 61, 31, 82, 51, 18, 41, 33, 32, 65, 40, 61, 41, 72, 67, 63, 53, 50, 29, 100, 56, 19, 32, 99, 4, 93, 60, 63, 95, 70, 58, 9, 9, 88, 31, 77, 13, 67, 99, 69, 27, 69, 8, 78, 1, 79, 68, 62, 88, 25, 97, 66, 15, 40, 10, 8, 75, 81, 28, 32, 2, 32, 43, 89, 16, 28, 1, 69, 99, 60, 90, 46, 28, 59, 60, 83, 13, 77, 88, 72, 64, 60, 1, 2, 98, 80, 8, 66, 69, 5, 19, 95, 68, 40, 28, 8, 90, 49, 64, 4, 7, 19, 43, 63, 38, 18, 16, 8, 19, 46, 69, 62, 20, 8, 50, 83, 46, 14, 10, 63, 78, 70, 49, 93, 50, 42, 99, 66, 22, 52, 67, 85, 77, 35, 77, 12, 99, 37, 48, 54, 95, 78, 55, 40, 21, 91, 23, 53]\n"
          ]
        }
      ]
    },
    {
      "cell_type": "markdown",
      "metadata": {
        "id": "yNWg08k6bXv0"
      },
      "source": [
        "---\n",
        "### Exercise 2 - show tuple items\n",
        "\n",
        "Write a function which will:\n",
        "*   use a loop to print the list of protected characteristics from the `protected_characteristics` tuple.\n"
      ]
    },
    {
      "cell_type": "code",
      "metadata": {
        "id": "P2HnCG9pb1BS",
        "outputId": "b3142c9c-7702-4448-9424-cd94537e1731",
        "colab": {
          "base_uri": "https://localhost:8080/"
        }
      },
      "source": [
        "def print_protected_characteristics(characteristics_tuple):\n",
        "\n",
        "    for characteristic in characteristics_tuple:\n",
        "        print(\"Protected characteristic:\", characteristic)\n",
        "\n",
        "\n",
        "print_protected_characteristics(protected_characteristics)"
      ],
      "execution_count": 24,
      "outputs": [
        {
          "output_type": "stream",
          "name": "stdout",
          "text": [
            "Protected characteristic: age\n",
            "Protected characteristic: disability\n",
            "Protected characteristic: gender reassignment\n",
            "Protected characteristic: marriage and civil partnership\n",
            "Protected characteristic: pregnancy and maternity\n",
            "Protected characteristic: race\n",
            "Protected characteristic: religion or belief\n",
            "Protected characteristic: sex\n",
            "Protected characteristic: sexual orientation\n"
          ]
        }
      ]
    },
    {
      "cell_type": "markdown",
      "metadata": {
        "id": "RTSuQZs4b1JU"
      },
      "source": [
        "---\n",
        "### Exercise 3 - list a random subset\n",
        "\n",
        "Write a function which will:\n",
        "*  calculate the position of the middle item in the `characteristics` list   \n",
        "(*Hint: use len() to help with this*)\n",
        "*  calculate the position of the item that is 5 places before the middle item\n",
        "*  calculate the position of the item that is 5 places after the middle item\n",
        "*  print the part of the list that includes the items from 5 places before to 5 places after.  \n",
        "\n",
        "Expected output:  \n",
        "Your list will include 11 items."
      ]
    },
    {
      "cell_type": "code",
      "metadata": {
        "id": "OwhFnH2kdC11",
        "outputId": "61ab3258-5824-43ff-e8de-ea37aecfa647",
        "colab": {
          "base_uri": "https://localhost:8080/"
        }
      },
      "source": [
        "def process_characteristics(characteristics):\n",
        "\n",
        "    middle_item = len(characteristics) // 2\n",
        "    before_middle_item = middle_item - 5\n",
        "    after_middle_item = middle_item + 5\n",
        "    relevant_items = characteristics[before_middle_item:after_middle_item]\n",
        "    print(\"Your list will include 11 items:\\n\",relevant_items)\n",
        "\n",
        "process_characteristics(characteristics)"
      ],
      "execution_count": 35,
      "outputs": [
        {
          "output_type": "stream",
          "name": "stdout",
          "text": [
            "Your list will include 11 items:\n",
            " ['sex', 'gender reassignment', 'age', 'age', 'race', 'sexual orientation', 'pregnancy and maternity', 'gender reassignment', 'gender reassignment', 'disability']\n"
          ]
        }
      ]
    },
    {
      "cell_type": "markdown",
      "metadata": {
        "id": "KS0x3oFNePI9"
      },
      "source": [
        "---\n",
        "### Exercise 4 - create a copy\n",
        "\n",
        "Write a function which will: use a for loop to create a copy of the `nums` list:\n",
        "\n",
        "*   create a new, empty, list called **new_nums**  (*Hint: an empty list is [ ]*)\n",
        "*   use a for loop which uses the following syntax:  `for num in nums:`\n",
        "*   each time round the loop append `num` to `new_nums`  ( *`new_nums.append(num)`*)\n",
        "*   print the first 10 items of `new_nums`\n",
        "*   print the first 10 items of `nums`\n",
        "*   print the length of both lists"
      ]
    },
    {
      "cell_type": "code",
      "metadata": {
        "id": "mpK1Ip3we-uC"
      },
      "source": [],
      "execution_count": null,
      "outputs": []
    },
    {
      "cell_type": "markdown",
      "metadata": {
        "id": "deUIFWjRe-3G"
      },
      "source": [
        "\n",
        "\n",
        "```\n",
        "# This is formatted as code\n",
        "```\n",
        "\n",
        "---\n",
        "### Exercise 5 - count the occurrence of age in characteristics\n",
        "\n",
        "Write a function which will use the list method:\n",
        "\n",
        "`num_items = list_name.count(item)`\n",
        "\n",
        "to count the number of occurrences of 'age' in the `characteristics` list.  Print the result."
      ]
    },
    {
      "cell_type": "code",
      "metadata": {
        "id": "b9TrHQ9hfoIU"
      },
      "source": [],
      "execution_count": null,
      "outputs": []
    },
    {
      "cell_type": "markdown",
      "metadata": {
        "id": "zm2VI5RmfoSy"
      },
      "source": [
        "---\n",
        "### Exercise 6 - sort the nums list\n",
        "\n",
        "Write a function which will:\n",
        "*   call the function `get_num_list()` and store the result in a new list called **sort_nums**\n",
        "*   print the first, and last, 20 items in the `sort_nums` list\n",
        "*   use the `list_name.sort()` method to sort the `sort_nums` list into ascending order\n",
        "*   print the first, and last, 20 items again  \n",
        "*   use the `list_name.sort()` method again to sort the `sort_nums` list into descending order\n",
        "*   print the first, and last, 20 items again"
      ]
    },
    {
      "cell_type": "code",
      "metadata": {
        "id": "Fksgpj9JgWDs"
      },
      "source": [],
      "execution_count": null,
      "outputs": []
    },
    {
      "cell_type": "markdown",
      "metadata": {
        "id": "_OF-Xuj1UrW0"
      },
      "source": [
        "---\n",
        "### Exercise 7 - get statistics (max(), min(), sum() )\n",
        "\n",
        "Write a function which will:\n",
        "*   print the maximum and minimum numbers in the `nums` list  \n",
        "*   print the sum of the `nums` list\n",
        "*   calculate and print the average of the `nums` list (using `len()` to help)"
      ]
    },
    {
      "cell_type": "code",
      "metadata": {
        "id": "9YmYMenZVGod"
      },
      "source": [],
      "execution_count": null,
      "outputs": []
    },
    {
      "cell_type": "markdown",
      "metadata": {
        "id": "Mn4tHQ_KVbHa"
      },
      "source": [
        "---\n",
        "### Exercise 8 - percentage difference\n",
        "\n",
        "Write a function which will:\n",
        "*   generate a new list called **ex8_nums** using `get_num_list()`\n",
        "*   calculate and print the percentage difference between the first number in each list (as a percentage of the number in the nums list) (Hint:  find the difference between the two numbers, divide the difference by the number in `nums` and multiply by 100)\n",
        "*   calculate and print the percentage difference between the last numbers in each list in the same way\n",
        "*   calculate and print the percentage difference between the middle numbers in each list in the same way.\n",
        "*   calculate and print the percentage difference between the sums of each list in the same way"
      ]
    },
    {
      "cell_type": "code",
      "metadata": {
        "id": "nJCQjZIeZL0e"
      },
      "source": [],
      "execution_count": null,
      "outputs": []
    },
    {
      "cell_type": "markdown",
      "metadata": {
        "id": "HNs3lZmYawFO"
      },
      "source": [
        "---\n",
        "### Exercise 9 - characteristic counts\n",
        "\n",
        "Write a function which will:\n",
        "*  iterate through the `protected_characteristics` tuple and for each **characteristic**:\n",
        "*   *   count the number of occurrences of that `characteristic` in the `characteristics` list\n",
        "*   *   print the `protected_characteristic` and the **count**  \n",
        "\n",
        "Example expected output:\n",
        "\n",
        "age 100  \n",
        "disability 120  \n",
        "gender reassignment 120  \n",
        "marriage and civil partnership 111  \n",
        "pregnancy and maternity 103  \n",
        "race 106  \n",
        "religion or belief 95  \n",
        "sex 110  \n",
        "sexual orientation 113  \n",
        "\n",
        "Extra learning:  you can read [here](https://thispointer.com/python-how-to-pad-strings-with-zero-space-or-some-other-character/) how to justify the printed characteristic so that the output is organised into two columns as shown below:  \n",
        "![tabulated output](https://drive.google.com/uc?id=1CCXfX6K5ZeDefnq7vUsqxCDmqvcfY8Mz)\n",
        "\n",
        "\n",
        "\n"
      ]
    },
    {
      "cell_type": "code",
      "metadata": {
        "id": "GURT11albqUs"
      },
      "source": [],
      "execution_count": null,
      "outputs": []
    },
    {
      "cell_type": "markdown",
      "metadata": {
        "id": "9Po7yQj-ds38"
      },
      "source": [
        "---\n",
        "### Exercise 10 - characteristics statistics\n",
        "\n",
        "Assuming that the `characteristics` list may have been taken from a study of cases that have been taken to court in relation to the Equality Act.  \n",
        "\n",
        "Write a function which will:\n",
        "\n",
        "*   find the most common characteristic resulting in court action, from this population\n",
        "*   print this in a message, e.g. The characteristic with the highest number of court cases is:  *characteristic*\n",
        "*   print the list of `protected_characteristics`, on one line if possible - see [here](https://www.geeksforgeeks.org/g-fact-25-print-single-multiple-variable-python/)\n",
        "*   ask the user to enter a characteristic that they would like to see statistics on and use a while loop to continue until the user has entered a valid characteristic\n",
        "*   print the characteristic, its frequency and the percentage that this frequency is of the whole population."
      ]
    },
    {
      "cell_type": "code",
      "metadata": {
        "id": "uk_I5z7UgbDs"
      },
      "source": [],
      "execution_count": null,
      "outputs": []
    }
  ]
}