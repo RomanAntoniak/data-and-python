{
  "nbformat": 4,
  "nbformat_minor": 0,
  "metadata": {
    "colab": {
      "provenance": [],
      "include_colab_link": true
    },
    "kernelspec": {
      "name": "python3",
      "display_name": "Python 3"
    },
    "language_info": {
      "name": "python"
    }
  },
  "cells": [
    {
      "cell_type": "markdown",
      "metadata": {
        "id": "view-in-github",
        "colab_type": "text"
      },
      "source": [
        "<a href=\"https://colab.research.google.com/github/RomanAntoniak/data-and-python/blob/main/16_Lists_Dictionaries_Challenges.ipynb\" target=\"_parent\"><img src=\"https://colab.research.google.com/assets/colab-badge.svg\" alt=\"Open In Colab\"/></a>"
      ]
    },
    {
      "cell_type": "markdown",
      "metadata": {
        "id": "nEJLJX3J9B2k"
      },
      "source": [
        "# Some challenges to help you become more confident with using Lists, Tuples and Dictionaries\n",
        "\n",
        "---\n",
        "\n"
      ]
    },
    {
      "cell_type": "markdown",
      "metadata": {
        "id": "JvV6htgh9Nc1"
      },
      "source": [
        "### Exercise 1 - extending a list\n",
        "\n",
        "There are three ways to extend a list in Python:  \n",
        "*  use `list_name.append(item)`, `list_name.insert(item)`\n",
        "*  concatenate two lists using the + operator (e.g. new_list = list1 + list2)\n",
        "*  use `list1_name.extend(list2_name)`\n",
        "\n",
        "The last method allows us to add all the `list2` items onto `list1` and for the new, extended list to now be `list1`.  `list2` will always be added to the end of `list1`.  \n",
        "\n",
        "If the objective is to add list2 before list1 then use `list2.extend(list1)`\n",
        "\n",
        "Write a function which will:  \n",
        "*  create a list of **years** containing the years 1960, 1970, 1980, 1990, 2000  \n",
        "*  print the list of years  \n",
        "*  calculate how long ago each year was and print the year and how long ago it was (e.g. 1990 was 30 years ago)  *(Hint:  use the datetime library to get the current year)*   \n",
        "*  create a second list, **years2** containing the years 2010 and 2020, extend `years` to include these later years\n",
        "*  create a third list, **years3** containing the years 1930, 1940 and 1950 and extend the` years3` list to include all the years between 1930 and 2020\n",
        "*  print the final list\n",
        "\n",
        "Expected output:  \n",
        "[1960, 1970, 1980, 1990]  \n",
        "1960 was 61 years ago  \n",
        "1970 was 51 years ago  \n",
        "1980 was 41 years ago  \n",
        "1990 was 31 years ago  \n",
        "2000 was 21 years ago  \n",
        "[1930, 1940, 1950, 1960, 1970, 1980, 1990, 2000, 2010, 2020]"
      ]
    },
    {
      "cell_type": "code",
      "metadata": {
        "id": "QAyTVqoO8-08",
        "outputId": "885254e8-d365-46b9-fcee-8d5b5f8683f4",
        "colab": {
          "base_uri": "https://localhost:8080/"
        }
      },
      "source": [
        "import datetime\n",
        "\n",
        "def calculate_years_ago(year):\n",
        "    current_year = datetime.datetime.now().year\n",
        "    years_ago = current_year - year\n",
        "    return years_ago\n",
        "\n",
        "\n",
        "years = [1960, 1970, 1980, 1990, 2000]\n",
        "print(years)\n",
        "\n",
        "\n",
        "for year in years:\n",
        "    years_ago = calculate_years_ago(year)\n",
        "    print(f\"{year} was {years_ago} years ago\")\n",
        "\n",
        "\n",
        "years2 = [2010, 2020]\n",
        "years.extend(years2)\n",
        "years3 = [1930, 1940, 1950]\n",
        "years3.extend(range(1960, 2021))\n",
        "print(years3)\n"
      ],
      "execution_count": 2,
      "outputs": [
        {
          "output_type": "stream",
          "name": "stdout",
          "text": [
            "[1960, 1970, 1980, 1990, 2000]\n",
            "1960 was 64 years ago\n",
            "1970 was 54 years ago\n",
            "1980 was 44 years ago\n",
            "1990 was 34 years ago\n",
            "2000 was 24 years ago\n",
            "[1930, 1940, 1950, 1960, 1961, 1962, 1963, 1964, 1965, 1966, 1967, 1968, 1969, 1970, 1971, 1972, 1973, 1974, 1975, 1976, 1977, 1978, 1979, 1980, 1981, 1982, 1983, 1984, 1985, 1986, 1987, 1988, 1989, 1990, 1991, 1992, 1993, 1994, 1995, 1996, 1997, 1998, 1999, 2000, 2001, 2002, 2003, 2004, 2005, 2006, 2007, 2008, 2009, 2010, 2011, 2012, 2013, 2014, 2015, 2016, 2017, 2018, 2019, 2020]\n"
          ]
        }
      ]
    },
    {
      "cell_type": "markdown",
      "metadata": {
        "id": "S5iPicFzBzOW"
      },
      "source": [
        "---\n",
        "### Exercise 2 - creating a dictionary from a tuple and three lists\n",
        "\n",
        "Write a function which will create a list of dictionary items using the values in a tuple as the dictionary keys and the values in three corresponding lists as the dictionary values.\n",
        "\n",
        "*  loop through the status items in the tuple called task_status\n",
        "*  for each status, loop through the list with the same name (*Hint:  you can use eval(status) to access the list with the matching name  e.g. for task in eval(status)* )\n",
        "*  each time round this second loop, create a dictionary object with the  key:value pair {status : task}\n",
        "*  add each new dictionary to a list called **project_board** that was created as an empty list before the loops  \n",
        "*  print the project_board list\n",
        "\n",
        "Expected output:  \n",
        "\n",
        "[{'assigned': 'task1'}, {'assigned': 'task2'}, {'assigned': 'task3'}, {'inprogress': 'task4'}, {'inprogress': 'task5'}, {'inprogress': 'task6'}, {'completed': 'task7'}, {'completed': 'task8'}, {'completed': 'task9'}]\n",
        "\n",
        "\n",
        "Copy this code into the cell below to get you started:\n",
        "```\n",
        "def create_project_board():\n",
        "  task_status = (\"assigned\", \"inprogress\", \"completed\")\n",
        "  assigned = ['task1','task2','task3']\n",
        "  inprogress = ['task4','task5','task6']\n",
        "  completed = ['task7','task8','task9']\n",
        "  #  add your code below here\n",
        "\n",
        "\n",
        "\n",
        "\n",
        "create_project_board()\n",
        "```\n"
      ]
    },
    {
      "cell_type": "code",
      "metadata": {
        "id": "KXYOSHY-C7m4",
        "outputId": "6c0781c2-ace8-466f-f6df-9812d4df748b",
        "colab": {
          "base_uri": "https://localhost:8080/"
        }
      },
      "source": [
        "def create_project_board():\n",
        "\n",
        "    task_status = (\"assigned\", \"inprogress\", \"completed\")\n",
        "    assigned = ['task1', 'task2', 'task3']\n",
        "    inprogress = ['task4', 'task5', 'task6']\n",
        "    completed = ['task7', 'task8', 'task9']\n",
        "\n",
        "    project_board = []\n",
        "\n",
        "    for status in task_status:\n",
        "        for task in eval(status):\n",
        "            task_dict = {status: task}\n",
        "            project_board.append(task_dict)\n",
        "\n",
        "    return project_board\n",
        "\n",
        "\n",
        "result = create_project_board()\n",
        "for item in result:\n",
        "    print(item)\n"
      ],
      "execution_count": 5,
      "outputs": [
        {
          "output_type": "stream",
          "name": "stdout",
          "text": [
            "{'assigned': 'task1'}\n",
            "{'assigned': 'task2'}\n",
            "{'assigned': 'task3'}\n",
            "{'inprogress': 'task4'}\n",
            "{'inprogress': 'task5'}\n",
            "{'inprogress': 'task6'}\n",
            "{'completed': 'task7'}\n",
            "{'completed': 'task8'}\n",
            "{'completed': 'task9'}\n"
          ]
        }
      ]
    },
    {
      "cell_type": "markdown",
      "metadata": {
        "id": "M1BuTu9p19Ma"
      },
      "source": [
        "---\n",
        "### Exercise 3 - names and heights\n",
        "\n",
        "Write a function which will allow a user to enter the names and heights of a set of people and add each set of information as a record (dictionary) to a list. The function will stop collecting names and heights when the user enters \"STOP\" as the name.\n",
        "\n",
        "Then, the function will:  \n",
        "\n",
        "*   produce a list of names in order of the shortest person to the tallest\n",
        "*   calculate the name of the tallest person\n",
        "*   calculate the name of the shortest person\n",
        "*   calculate the average height\n",
        "*   calculate the name of the person who is closest to the average height\n",
        "\n",
        "\n",
        "\n",
        "\n"
      ]
    },
    {
      "cell_type": "code",
      "metadata": {
        "id": "reuyww3e18uv",
        "outputId": "43b40bd3-9d38-483d-cc66-fb4a2d4376fd",
        "colab": {
          "base_uri": "https://localhost:8080/"
        }
      },
      "source": [
        "def collect_people_info():\n",
        "\n",
        "    people_records = []\n",
        "    while True:\n",
        "        name = input(\"Enter a person's name (or 'STOP' to finish): \")\n",
        "        if name.upper() == \"STOP\":\n",
        "            break\n",
        "\n",
        "        try:\n",
        "            height = float(input(\"Enter the person's height (in centimeters): \"))\n",
        "            record = {\"name\": name, \"height\": height}\n",
        "            people_records.append(record)\n",
        "        except ValueError:\n",
        "            print(\"Invalid height. Please enter a valid numeric value.\")\n",
        "\n",
        "    return people_records\n",
        "\n",
        "def calculate_statistics(records):\n",
        "    if not records:\n",
        "        return None\n",
        "\n",
        "\n",
        "    sorted_records = sorted(records, key=lambda x: x[\"height\"])\n",
        "    total_height = sum(record[\"height\"] for record in sorted_records)\n",
        "    average_height = total_height / len(sorted_records)\n",
        "    tallest_person = sorted_records[-1][\"name\"]\n",
        "    shortest_person = sorted_records[0][\"name\"]\n",
        "    closest_to_average = min(sorted_records, key=lambda x: abs(x[\"height\"] - average_height))[\"name\"]\n",
        "\n",
        "    return sorted_records, tallest_person, shortest_person, average_height, closest_to_average\n",
        "\n",
        "\n",
        "people_info = collect_people_info()\n",
        "\n",
        "\n",
        "result = calculate_statistics(people_info)\n",
        "\n",
        "if result:\n",
        "    sorted_records, tallest, shortest, avg_height, closest_to_avg = result\n",
        "    print(\"List of names (shortest to tallest):\")\n",
        "    for record in sorted_records:\n",
        "        print(record[\"name\"])\n",
        "    print(f\"Tallest person: {tallest}\")\n",
        "    print(f\"Shortest person: {shortest}\")\n",
        "    print(f\"Average height: {avg_height:.2f} cm\")\n",
        "    print(f\"Person closest to average height: {closest_to_avg}\")\n",
        "else:\n",
        "    print(\"No records entered.\")\n",
        "\n"
      ],
      "execution_count": 6,
      "outputs": [
        {
          "output_type": "stream",
          "name": "stdout",
          "text": [
            "Enter a person's name (or 'STOP' to finish): Ьшлу\n",
            "Enter the person's height (in centimeters): 183\n",
            "Enter a person's name (or 'STOP' to finish): Mike\n",
            "Enter the person's height (in centimeters): 182\n",
            "Enter a person's name (or 'STOP' to finish): Ihor\n",
            "Enter the person's height (in centimeters): 150\n",
            "Enter a person's name (or 'STOP' to finish): Bodia\n",
            "Enter the person's height (in centimeters): 190\n",
            "Enter a person's name (or 'STOP' to finish): Roman\n",
            "Enter the person's height (in centimeters): 200\n",
            "Enter a person's name (or 'STOP' to finish): Yura\n",
            "Enter the person's height (in centimeters): 170\n",
            "Enter a person's name (or 'STOP' to finish): stop\n",
            "List of names (shortest to tallest):\n",
            "Ihor\n",
            "Yura\n",
            "Mike\n",
            "Ьшлу\n",
            "Bodia\n",
            "Roman\n",
            "Tallest person: Roman\n",
            "Shortest person: Ihor\n",
            "Average height: 179.17 cm\n",
            "Person closest to average height: Mike\n"
          ]
        }
      ]
    }
  ]
}